{
  "nbformat": 4,
  "nbformat_minor": 0,
  "metadata": {
    "colab": {
      "provenance": [],
      "toc_visible": true
    },
    "kernelspec": {
      "name": "python3",
      "display_name": "Python 3"
    },
    "language_info": {
      "name": "python"
    }
  },
  "cells": [
    {
      "cell_type": "markdown",
      "source": [
        "##Natural Language Processing\n",
        "##Corpora Analysis and Text processing using NLTK.\n",
        "##Lallith Prasath"
      ],
      "metadata": {
        "id": "uJvf1I8z-cyz"
      }
    },
    {
      "cell_type": "markdown",
      "source": [
        "**1. Utilize Python NLTK (Natural Language Tool Kit) Platform and do the following.\n",
        "Install relevant Packages and Libraries**\n"
      ],
      "metadata": {
        "id": "x01HYEMEv3-_"
      }
    },
    {
      "cell_type": "code",
      "source": [
        "!pip install nltk\n",
        "\n",
        "import nltk\n",
        "nltk.download('brown')"
      ],
      "metadata": {
        "colab": {
          "base_uri": "https://localhost:8080/"
        },
        "id": "xFe_zOc-mwOd",
        "outputId": "c55ae730-b41c-4962-909c-400c7b12535b"
      },
      "execution_count": null,
      "outputs": [
        {
          "output_type": "stream",
          "name": "stdout",
          "text": [
            "Looking in indexes: https://pypi.org/simple, https://us-python.pkg.dev/colab-wheels/public/simple/\n",
            "Requirement already satisfied: nltk in /usr/local/lib/python3.8/dist-packages (3.7)\n",
            "Requirement already satisfied: joblib in /usr/local/lib/python3.8/dist-packages (from nltk) (1.2.0)\n",
            "Requirement already satisfied: tqdm in /usr/local/lib/python3.8/dist-packages (from nltk) (4.64.1)\n",
            "Requirement already satisfied: regex>=2021.8.3 in /usr/local/lib/python3.8/dist-packages (from nltk) (2022.6.2)\n",
            "Requirement already satisfied: click in /usr/local/lib/python3.8/dist-packages (from nltk) (7.1.2)\n"
          ]
        },
        {
          "output_type": "stream",
          "name": "stderr",
          "text": [
            "[nltk_data] Downloading package brown to /root/nltk_data...\n",
            "[nltk_data]   Package brown is already up-to-date!\n"
          ]
        },
        {
          "output_type": "execute_result",
          "data": {
            "text/plain": [
              "True"
            ]
          },
          "metadata": {},
          "execution_count": 91
        }
      ]
    },
    {
      "cell_type": "markdown",
      "source": [
        "Explore Brown Corpus and find the size, tokens, categories"
      ],
      "metadata": {
        "id": "pAqWYkzevL1y"
      }
    },
    {
      "cell_type": "code",
      "source": [
        "from nltk.corpus import brown\n",
        "\n",
        "print(\"Categories present in the brown Corpus:\\n\")\n",
        "print(brown.categories())\n"
      ],
      "metadata": {
        "colab": {
          "base_uri": "https://localhost:8080/"
        },
        "id": "ogANlQWnnzv2",
        "outputId": "451eb512-ee37-4e63-ff1a-073a4fb3c242"
      },
      "execution_count": null,
      "outputs": [
        {
          "output_type": "stream",
          "name": "stdout",
          "text": [
            "Categories present in the brown Corpus:\n",
            "\n",
            "['adventure', 'belles_lettres', 'editorial', 'fiction', 'government', 'hobbies', 'humor', 'learned', 'lore', 'mystery', 'news', 'religion', 'reviews', 'romance', 'science_fiction']\n"
          ]
        }
      ]
    },
    {
      "cell_type": "code",
      "source": [
        "print(\"Number of words in each category:\\n\")\n",
        "for category in brown.categories():\n",
        "    print(category + ': ' + str(len(brown.words(categories=category))))"
      ],
      "metadata": {
        "colab": {
          "base_uri": "https://localhost:8080/"
        },
        "id": "FixcDmZ_vXEi",
        "outputId": "4303de91-6f26-4b3f-906c-30faea368be8"
      },
      "execution_count": null,
      "outputs": [
        {
          "output_type": "stream",
          "name": "stdout",
          "text": [
            "Number of words in each category:\n",
            "\n",
            "adventure: 69342\n",
            "belles_lettres: 173096\n",
            "editorial: 61604\n",
            "fiction: 68488\n",
            "government: 70117\n",
            "hobbies: 82345\n",
            "humor: 21695\n",
            "learned: 181888\n",
            "lore: 110299\n",
            "mystery: 57169\n",
            "news: 100554\n",
            "religion: 39399\n",
            "reviews: 40704\n",
            "romance: 70022\n",
            "science_fiction: 14470\n"
          ]
        }
      ]
    },
    {
      "cell_type": "code",
      "source": [
        "print(\"Words present in the brown Corpus:\\n\")\n",
        "print(brown.words())"
      ],
      "metadata": {
        "colab": {
          "base_uri": "https://localhost:8080/"
        },
        "id": "RnbjrwW4t3o7",
        "outputId": "eb840e3f-a132-4f5c-fe3e-03554e943ef4"
      },
      "execution_count": null,
      "outputs": [
        {
          "output_type": "stream",
          "name": "stdout",
          "text": [
            "Words present in the brown Corpus:\n",
            "\n",
            "['The', 'Fulton', 'County', 'Grand', 'Jury', 'said', ...]\n"
          ]
        }
      ]
    },
    {
      "cell_type": "markdown",
      "source": [
        " Find the size of word tokens?"
      ],
      "metadata": {
        "id": "-6Tw323Rt8Ra"
      }
    },
    {
      "cell_type": "code",
      "source": [
        "print(\"Size of word tokens in brown Corpus:\\n\")\n",
        "word_token = len(brown.words())\n",
        "print(word_token)"
      ],
      "metadata": {
        "colab": {
          "base_uri": "https://localhost:8080/"
        },
        "id": "jb_4MJxccVEn",
        "outputId": "5ac2f00f-b9e6-41ed-92b7-14f518c233a7"
      },
      "execution_count": null,
      "outputs": [
        {
          "output_type": "stream",
          "name": "stdout",
          "text": [
            "Size of word tokens in brown Corpus:\n",
            "\n",
            "1161192\n"
          ]
        }
      ]
    },
    {
      "cell_type": "markdown",
      "source": [
        " Find the size of word types?"
      ],
      "metadata": {
        "id": "VV5EAFMiuCsr"
      }
    },
    {
      "cell_type": "code",
      "source": [
        "print(\"Size of word types in brown Corpus:\\n\")\n",
        "word_type = len(set(brown.words()))\n",
        "print(word_type)"
      ],
      "metadata": {
        "id": "Q-0G7Iaqp9xM",
        "colab": {
          "base_uri": "https://localhost:8080/"
        },
        "outputId": "d52266d4-b68f-4856-fd62-ea50852c9c6c"
      },
      "execution_count": null,
      "outputs": [
        {
          "output_type": "stream",
          "name": "stdout",
          "text": [
            "Size of word types in brown Corpus:\n",
            "\n",
            "56057\n"
          ]
        }
      ]
    },
    {
      "cell_type": "markdown",
      "source": [
        "Find the size of the category “government”"
      ],
      "metadata": {
        "id": "AaswaTePu2a3"
      }
    },
    {
      "cell_type": "code",
      "source": [
        "print(\"The size of word tokens in category 'government' :\\n\")\n",
        "govt_token=brown.words(categories='government')\n",
        "len(govt_token)\n"
      ],
      "metadata": {
        "colab": {
          "base_uri": "https://localhost:8080/"
        },
        "id": "a_QHLcCBp5G2",
        "outputId": "1f65b198-d71b-4d1b-ffca-d5f30cd3d502"
      },
      "execution_count": null,
      "outputs": [
        {
          "output_type": "stream",
          "name": "stdout",
          "text": [
            "The size of word tokens in category 'government' :\n",
            "\n"
          ]
        },
        {
          "output_type": "execute_result",
          "data": {
            "text/plain": [
              "70117"
            ]
          },
          "metadata": {},
          "execution_count": 97
        }
      ]
    },
    {
      "cell_type": "code",
      "source": [
        "print(\"The size of word types in category 'government' :\\n\")\n",
        "govt_type = len(set(brown.words(categories='government')))\n",
        "print(govt_type)"
      ],
      "metadata": {
        "colab": {
          "base_uri": "https://localhost:8080/"
        },
        "id": "YA45lG77uiCA",
        "outputId": "e015e1d9-1a56-4aed-f925-639d36acf138"
      },
      "execution_count": null,
      "outputs": [
        {
          "output_type": "stream",
          "name": "stdout",
          "text": [
            "The size of word types in category 'government' :\n",
            "\n",
            "8181\n"
          ]
        }
      ]
    },
    {
      "cell_type": "markdown",
      "source": [
        "List the most frequent tokens"
      ],
      "metadata": {
        "id": "c1SasSVhvJPe"
      }
    },
    {
      "cell_type": "code",
      "source": [
        "print(\"The 35 most frequently occuring tokens in the brown Corpus:\\n\")\n",
        "nltk.FreqDist(brown.words()).most_common(35)"
      ],
      "metadata": {
        "colab": {
          "base_uri": "https://localhost:8080/"
        },
        "id": "RK_QKvPgr8wT",
        "outputId": "8314d402-8f07-4f5e-e95f-ba6c249e0ff2"
      },
      "execution_count": null,
      "outputs": [
        {
          "output_type": "stream",
          "name": "stdout",
          "text": [
            "The 35 most frequently occuring tokens in the brown Corpus:\n",
            "\n"
          ]
        },
        {
          "output_type": "execute_result",
          "data": {
            "text/plain": [
              "[('the', 62713),\n",
              " (',', 58334),\n",
              " ('.', 49346),\n",
              " ('of', 36080),\n",
              " ('and', 27915),\n",
              " ('to', 25732),\n",
              " ('a', 21881),\n",
              " ('in', 19536),\n",
              " ('that', 10237),\n",
              " ('is', 10011),\n",
              " ('was', 9777),\n",
              " ('for', 8841),\n",
              " ('``', 8837),\n",
              " (\"''\", 8789),\n",
              " ('The', 7258),\n",
              " ('with', 7012),\n",
              " ('it', 6723),\n",
              " ('as', 6706),\n",
              " ('he', 6566),\n",
              " ('his', 6466),\n",
              " ('on', 6395),\n",
              " ('be', 6344),\n",
              " (';', 5566),\n",
              " ('I', 5161),\n",
              " ('by', 5103),\n",
              " ('had', 5102),\n",
              " ('at', 4963),\n",
              " ('?', 4693),\n",
              " ('not', 4423),\n",
              " ('are', 4333),\n",
              " ('from', 4207),\n",
              " ('or', 4118),\n",
              " ('this', 3966),\n",
              " ('have', 3892),\n",
              " ('an', 3542)]"
            ]
          },
          "metadata": {},
          "execution_count": 99
        }
      ]
    },
    {
      "cell_type": "markdown",
      "source": [
        " Count the number of sentences"
      ],
      "metadata": {
        "id": "u-4nG8lPvDIb"
      }
    },
    {
      "cell_type": "code",
      "source": [
        "print(\"The number of sentences in the brown Corpus:\\n\")\n",
        "sentence = len(brown.sents())\n",
        "print(sentence)"
      ],
      "metadata": {
        "colab": {
          "base_uri": "https://localhost:8080/"
        },
        "id": "B_aIKFJ8r6H9",
        "outputId": "e0255bda-f4cd-48f8-9cf5-f2a22b1a7519"
      },
      "execution_count": null,
      "outputs": [
        {
          "output_type": "stream",
          "name": "stdout",
          "text": [
            "The number of sentences in the brown Corpus:\n",
            "\n",
            "57340\n"
          ]
        }
      ]
    },
    {
      "cell_type": "markdown",
      "source": [
        "**2. Explore the corpora available in NLTK (any two)**\n",
        "\n",
        "• Raw corpus\n",
        "• POS tagged\n",
        "• Parsed\n",
        "• Multilingual aligned\n",
        "• Spoken language\n",
        "• Semantic tagged"
      ],
      "metadata": {
        "id": "Z-XBXx7dwAAr"
      }
    },
    {
      "cell_type": "markdown",
      "source": [
        "**2.1 Spoken Language: Switchboard Corpus**\n",
        "\n",
        "The Switchboard corpus, consisting of telephone conversations between speakers of American English, is one of the longest-standing corpora of fully spontaneous speech.\n",
        "\n",
        "Switchboard is a collection of about 2,400 two-sided telephone conversations among 543 speakers (302 male, 241 female) from all areas of the United States.\n",
        "As such, there have been a range of different sorts of linguistic information annotated on it, including syntax, discourse semantics and prosody which makes it suitable for a variety of natural language processing and speech recognition tasks."
      ],
      "metadata": {
        "id": "9io7u09cE-O4"
      }
    },
    {
      "cell_type": "code",
      "source": [
        "nltk.download('switchboard')\n",
        "from nltk.corpus import switchboard"
      ],
      "metadata": {
        "colab": {
          "base_uri": "https://localhost:8080/"
        },
        "id": "yF57gbnZyRj1",
        "outputId": "e7d37f80-6df4-438c-bc39-3cba41de0cd7"
      },
      "execution_count": null,
      "outputs": [
        {
          "output_type": "stream",
          "name": "stderr",
          "text": [
            "[nltk_data] Downloading package switchboard to /root/nltk_data...\n",
            "[nltk_data]   Package switchboard is already up-to-date!\n"
          ]
        }
      ]
    },
    {
      "cell_type": "code",
      "source": [
        "print(switchboard.words()[0:100])"
      ],
      "metadata": {
        "id": "KpNipSVpzwwm",
        "outputId": "aae9b132-78e7-48b2-cccb-2f2fcdf9fb2a",
        "colab": {
          "base_uri": "https://localhost:8080/"
        }
      },
      "execution_count": null,
      "outputs": [
        {
          "output_type": "stream",
          "name": "stdout",
          "text": [
            "['Uh', ',', 'do', 'you', 'have', 'a', 'pet', 'Randy', '?', 'Uh', ',', 'yeah', ',', 'currently', 'we', 'have', 'a', 'poodle', '.', 'A', 'poodle', ',', 'miniature', 'or', ',', 'uh', ',', 'full', 'size', '?', 'Yeah', ',', 'uh', ',', 'it', \"'s\", ',', 'uh', 'miniature', '.', 'Uh-huh', '.', 'Yeah', '.', 'I', 'read', 'somewhere', 'that', ',', 'the', 'poodles', 'is', 'one', 'of', 'the', ',', 'the', 'most', 'intelligent', 'dogs', ',', 'uh', ',', 'around', '.', 'Well', ',', 'um', ',', 'I', 'would', \"n't\", ',', 'uh', ',', 'I', 'definitely', 'would', \"n't\", 'dispute', 'that', ',', 'it', ',', 'it', \"'s\", 'actually', 'my', 'wife', \"'s\", 'dog', ',', 'uh', ',', 'I', ',', 'I', 'became', 'part', 'owner']\n"
          ]
        }
      ]
    },
    {
      "cell_type": "code",
      "source": [
        "dialogues = switchboard.raw()\n",
        "print(dialogues[0:3000])"
      ],
      "metadata": {
        "colab": {
          "base_uri": "https://localhost:8080/"
        },
        "id": "TbM0D5lv1gOR",
        "outputId": "d7892a43-a39d-4605-b9d2-2e7406ec7da3"
      },
      "execution_count": null,
      "outputs": [
        {
          "output_type": "stream",
          "name": "stdout",
          "text": [
            "A.1: Uh/UH ,/, do/VBP you/PRP have/VB a/DT pet/NN Randy/NNP ?/.\n",
            "B.2: Uh/UH ,/, yeah/UH ,/, currently/RB we/PRP have/VBP a/DT poodle/NN ./.\n",
            "A.3: A/DT poodle/NN ,/, miniature/JJ or/CC ,/, uh/UH ,/, full/JJ size/NN ?/.\n",
            "B.4: Yeah/UH ,/, uh/UH ,/, it/PRP 's/BES ,/, uh/UH miniature/JJ ./.\n",
            "A.5: Uh-huh/UH ./.\n",
            "B.6: Yeah/UH ./.\n",
            "A.7: I/PRP read/VBD somewhere/RB that/IN ,/, the/DT poodles/NNS is/VBZ one/CD of/IN the/DT ,/, the/DT most/RBS intelligent/JJ dogs/NNS ,/, uh/UH ,/, around/RB ./.\n",
            "B.8: Well/UH ,/, um/UH ,/, I/PRP would/MD n't/RB ,/, uh/UH ,/, I/PRP definitely/RB would/MD n't/RB dispute/VB that/IN ,/, it/PRP ,/, it/PRP 's/BES actually/RB my/PRP$ wife/NN 's/POS dog/NN ,/, uh/UH ,/, I/PRP ,/, I/PRP became/VBD part/NN owner/NN six/CD months/NNS ago/RB when/WRB we/PRP got/VBD married/VBN ,/, but/CC ,/, uh/UH ,/, it/PRP ,/, uh/UH ,/, definitely/RB responds/VBZ to/IN ,/, uh/UH ,/, to/IN authority/NN and/CC ,/, I/PRP 've/VBP had/VBN dogs/NNS in/IN the/DT past/JJ and/CC ,/, uh/UH ,/, it/PRP seems/VBZ ,/, it/PRP seems/VBZ to/TO ,/, uh/UH ,/, respond/VB real/RB well/RB ,/, it/PRP ,/, it/PRP she/PRP 's/HVS ,/, she/PRP 's/HVS picked/VBN up/RP a/DT lot/NN of/IN things/NNS ,/, uh/UH ,/, just/RB ,/, just/RB by/IN ,/, uh/UH ,/, teaching/VBG by/IN force/NN ,/, I/PRP guess/VBP is/VBZ what/WP I/PRP 'd/MD like/VB to/TO say/VB ./.\n",
            "A.9: Oh/UH ,/, uh-huh/UH ./. So/RB ,/, you/PRP ,/, you/PRP 've/VBP only/RB known/VBN the/DT dog/NN ,/, wh-/XX ,/, how/WRB long/JJ did/VBD you/PRP say/VB ./.\n",
            "B.10: Well/UH ,/, about/RB a/DT year/NN I/PRP guess/VBP ./.\n",
            "A.11: Oh/UH ,/, well/UH ,/, uh/UH ,/, is/VBZ it/PRP ,/, uh/UH ,/, uh/UH ,/, how/WRB old/JJ is/VBZ the/DT dog/NN ?/.\n",
            "B.12: It/PRP just/RB turned/VBD two/CD ,/, I/PRP believe/VBP ./.\n",
            "A.13: Oh/UH ,/, it/PRP 's/BES still/RB just/RB a/DT pup/NN ./.\n",
            "B.14: Pretty/RB much/JJ ,/, yeah/UH ,/, yeah/UH ./.\n",
            "A.15: Yeah/UH ,/, I/PRP have/VBP a/DT ,/, uh/UH ,/, well/UH a/DT mutt/NN ,/, myself/PRP ./. I/PRP call/VBP it/PRP a/DT ,/, uh/UH ,/, uh/UH ,/, Chowperd/NNP ./.\n",
            "B.16: Okay/UH ./.\n",
            "A.17: It/PRP 's/BES ,/, uh/UH ,/, part/NN Chow/NNP and/CC part/NN Shepherd/NNP and/CC it/PRP ,/, as/IN I/PRP understand/VBP it/PRP ,/, uh/UH ,/, both/DT sides/NNS of/IN the/DT ,/, were/VBD thoroughbreds/NNS ./. So/RB ,/, she/PRP 's/BES a/DT genuine/JJ Chowperd/NNP ./.\n",
            "B.18: Oh/UH ,/, that/DT sounds/VBZ interesting/JJ ./.\n",
            "A.19: She/PRP has/VBZ the/DT ,/, the/DT color/NN and/CC the/DT black/JJ to-/NN ,/, tongue/NN of/IN a/DT Chow/NNP ,/, but/CC ,/, uh/UH ,/, she/PRP has/VBZ the/DT shap-/NN ,/, the/DT shape/NN of/IN the/DT ,/, uh/UH ,/, uh/UH ,/, Shepherd/NNP ./.\n",
            "B.20: Oh/UH ,/, that/DT 's/BES ,/, that/DT 's/BES neat/JJ ./. How/WRB ,/, about/RB how/WRB big/JJ then/RB ?/.\n",
            "A.21: Oh/UH ,/, she/PRP weighs/VBZ in/RP at/IN about/RB fifty/CD pounds/NNS ,/, so/RB she/PRP 's/BES a/DT medium/JJ size/NN ./.\n",
            "B.22: Yeah/UH ,/, yeah/UH ./.\n",
            "A.23: But/CC she/PRP 's/BES big/JJ enough/RB to/TO be/VB intimidating/JJ ,/,\n",
            "B.24: Most/JJS definitely/RB ./.\n",
            "A.25: it/PRP is/VBZ a/DT fi/VBN ,/, \n"
          ]
        }
      ]
    },
    {
      "cell_type": "markdown",
      "source": [
        "**2.2 POS tagged: CoNLL 2000 Corpus**\n",
        "\n",
        "The CoNLL 2000 corpus is a collection of 2000 documents manually annotated with part-of-speech tags and chunk tags. It contains around 270k words of Wall Street Journal text, divided into training and testing portions, in the IOB format widely used data for noun phrase chunking:\n",
        "\n",
        "sections 15-18 as training data (211727 tokens) and section 20 as test data (47377 tokens).\n"
      ],
      "metadata": {
        "id": "p3TrTxegZoiP"
      }
    },
    {
      "cell_type": "code",
      "source": [
        "nltk.download('conll2000')\n",
        "nltk.download('universal_tagset')\n",
        "\n",
        "from nltk.corpus import conll2000\n",
        "\n",
        "word_tokens = conll2000.words()[0:50]\n",
        "print(word_tokens)"
      ],
      "metadata": {
        "colab": {
          "base_uri": "https://localhost:8080/"
        },
        "id": "CQSJh3ey0UoK",
        "outputId": "0bb04cee-d7ca-4600-df50-12c7ba222919"
      },
      "execution_count": null,
      "outputs": [
        {
          "output_type": "stream",
          "name": "stdout",
          "text": [
            "['Confidence', 'in', 'the', 'pound', 'is', 'widely', 'expected', 'to', 'take', 'another', 'sharp', 'dive', 'if', 'trade', 'figures', 'for', 'September', ',', 'due', 'for', 'release', 'tomorrow', ',', 'fail', 'to', 'show', 'a', 'substantial', 'improvement', 'from', 'July', 'and', 'August', \"'s\", 'near-record', 'deficits', '.', 'Chancellor', 'of', 'the', 'Exchequer', 'Nigel', 'Lawson', \"'s\", 'restated', 'commitment', 'to', 'a', 'firm', 'monetary']\n"
          ]
        },
        {
          "output_type": "stream",
          "name": "stderr",
          "text": [
            "[nltk_data] Downloading package conll2000 to /root/nltk_data...\n",
            "[nltk_data]   Package conll2000 is already up-to-date!\n"
          ]
        }
      ]
    },
    {
      "cell_type": "code",
      "source": [
        "sentences = conll2000.chunked_sents()\n",
        "print(sentences)"
      ],
      "metadata": {
        "colab": {
          "base_uri": "https://localhost:8080/"
        },
        "id": "ToRIkJtU2QiM",
        "outputId": "0585d56c-2e72-4699-b1b2-05e74dfc27b0"
      },
      "execution_count": null,
      "outputs": [
        {
          "output_type": "stream",
          "name": "stdout",
          "text": [
            "[Tree('S', [Tree('NP', [('Confidence', 'NN')]), Tree('PP', [('in', 'IN')]), Tree('NP', [('the', 'DT'), ('pound', 'NN')]), Tree('VP', [('is', 'VBZ'), ('widely', 'RB'), ('expected', 'VBN'), ('to', 'TO'), ('take', 'VB')]), Tree('NP', [('another', 'DT'), ('sharp', 'JJ'), ('dive', 'NN')]), ('if', 'IN'), Tree('NP', [('trade', 'NN'), ('figures', 'NNS')]), Tree('PP', [('for', 'IN')]), Tree('NP', [('September', 'NNP')]), (',', ','), ('due', 'JJ'), Tree('PP', [('for', 'IN')]), Tree('NP', [('release', 'NN')]), Tree('NP', [('tomorrow', 'NN')]), (',', ','), Tree('VP', [('fail', 'VB'), ('to', 'TO'), ('show', 'VB')]), Tree('NP', [('a', 'DT'), ('substantial', 'JJ'), ('improvement', 'NN')]), Tree('PP', [('from', 'IN')]), Tree('NP', [('July', 'NNP'), ('and', 'CC'), ('August', 'NNP')]), Tree('NP', [(\"'s\", 'POS'), ('near-record', 'JJ'), ('deficits', 'NNS')]), ('.', '.')]), Tree('S', [('Chancellor', 'NNP'), Tree('PP', [('of', 'IN')]), Tree('NP', [('the', 'DT'), ('Exchequer', 'NNP')]), Tree('NP', [('Nigel', 'NNP'), ('Lawson', 'NNP')]), Tree('NP', [(\"'s\", 'POS'), ('restated', 'VBN'), ('commitment', 'NN')]), Tree('PP', [('to', 'TO')]), Tree('NP', [('a', 'DT'), ('firm', 'NN'), ('monetary', 'JJ'), ('policy', 'NN')]), Tree('VP', [('has', 'VBZ'), ('helped', 'VBN'), ('to', 'TO'), ('prevent', 'VB')]), Tree('NP', [('a', 'DT'), ('freefall', 'NN')]), Tree('PP', [('in', 'IN')]), Tree('NP', [('sterling', 'NN')]), Tree('PP', [('over', 'IN')]), Tree('NP', [('the', 'DT'), ('past', 'JJ'), ('week', 'NN')]), ('.', '.')]), ...]\n"
          ]
        }
      ]
    },
    {
      "cell_type": "code",
      "source": [
        "from nltk.corpus import conll2000, switchboard\n",
        "print(conll2000.tagged_words(tagset='universal')[0:30])"
      ],
      "metadata": {
        "colab": {
          "base_uri": "https://localhost:8080/"
        },
        "id": "96Fu_7hwYAiG",
        "outputId": "09447acc-af41-4a21-f147-010ca8d39f9a"
      },
      "execution_count": null,
      "outputs": [
        {
          "output_type": "stream",
          "name": "stdout",
          "text": [
            "[('Confidence', 'NOUN'), ('in', 'ADP'), ('the', 'DET'), ('pound', 'NOUN'), ('is', 'VERB'), ('widely', 'ADV'), ('expected', 'VERB'), ('to', 'PRT'), ('take', 'VERB'), ('another', 'DET'), ('sharp', 'ADJ'), ('dive', 'NOUN'), ('if', 'ADP'), ('trade', 'NOUN'), ('figures', 'NOUN'), ('for', 'ADP'), ('September', 'NOUN'), (',', '.'), ('due', 'ADJ'), ('for', 'ADP'), ('release', 'NOUN'), ('tomorrow', 'NOUN'), (',', '.'), ('fail', 'VERB'), ('to', 'PRT'), ('show', 'VERB'), ('a', 'DET'), ('substantial', 'ADJ'), ('improvement', 'NOUN'), ('from', 'ADP')]\n"
          ]
        },
        {
          "output_type": "stream",
          "name": "stderr",
          "text": [
            "[nltk_data] Downloading package universal_tagset to /root/nltk_data...\n",
            "[nltk_data]   Package universal_tagset is already up-to-date!\n"
          ]
        }
      ]
    },
    {
      "cell_type": "markdown",
      "source": [
        "**3. Create a text corpus with a minimum of 200 words (unique content). Implement the following text processing.**"
      ],
      "metadata": {
        "id": "6uuDpkMP9FS5"
      }
    },
    {
      "cell_type": "code",
      "source": [
        "from nltk.corpus import PlaintextCorpusReader\n",
        "from google.colab import drive\n",
        "drive.mount('/content/gdrive')\n",
        "\n",
        "path = 'gdrive/My Drive/NLP'\n",
        "file_type = '.*\\.txt'\n",
        "\n",
        "corpus = PlaintextCorpusReader(path, file_type)\n",
        "print(corpus.fileids())\n"
      ],
      "metadata": {
        "colab": {
          "base_uri": "https://localhost:8080/"
        },
        "id": "tV7hT4zo9E9C",
        "outputId": "e1ba1cc7-703d-481a-bf19-e7403cee5c0a"
      },
      "execution_count": null,
      "outputs": [
        {
          "output_type": "stream",
          "name": "stdout",
          "text": [
            "Drive already mounted at /content/gdrive; to attempt to forcibly remount, call drive.mount(\"/content/gdrive\", force_remount=True).\n",
            "['wine.txt']\n"
          ]
        }
      ]
    },
    {
      "cell_type": "code",
      "source": [
        "txt = corpus.raw('wine.txt')\n",
        "print(txt)"
      ],
      "metadata": {
        "colab": {
          "base_uri": "https://localhost:8080/"
        },
        "id": "8UKt6XR59svy",
        "outputId": "97c84d81-8dbf-43d1-974c-8c63ae392ad9"
      },
      "execution_count": null,
      "outputs": [
        {
          "output_type": "stream",
          "name": "stdout",
          "text": [
            "According to experts, the wine is differentiated according to its smell, flavor, and color, but we are not a wine expert to say that wine is good or bad. The red wine industry shows a recent exponential growth as social drinking is on the rise. Nowadays, industry players are using product quality certifications to promote their products. This is a time-consuming process and requires the assessment given by human experts, which makes this process very expensive. Previously, testing of product quality was done at the end of the production, which is time taking process and it requires a lot of resources such as the need for various human experts for the assessment of product quality which makes this process very expensive.  Also, the price of red wine depends on a rather abstract concept of wine appreciation by wine tasters, opinion among whom may have a high degree of variability. Another vital factor in red wine certification and quality assessment is physicochemical tests, which are laboratory-based and consider factors like acidity, pH level, sugar, and other chemical properties. The red wine market would be of interest if the human quality of tasting can be related to wine’s chemical properties so that certification and quality assessment and assurance processes are more controlled.\r\n",
            "The excellence of New Zealand Pinot noir wines is well-known worldwide. We utilised 18 Pinot noir wine samples with 54 different characteristics (7 physiochemical and 47 chemical features). We generated 1381 samples from 12 original samples using the SMOTE method, and six samples were preserved for model testing. The findings were compared using four distinct feature selection approaches. Important attributes (referred as essential variables) that were shown to be relevant in at least three feature selection methods were utilised to predict wine quality. Seven machine learning algorithms were trained and tested on a holdout original sample. Adaptive Boosting (AdaBoost) classifier showed 100% accuracy when trained and evaluated without feature selection, with feature selection (XGB), and with essential variables (features found important in at least three feature selection methods). In the presence of essential variables, the Random Forest (RF) classifier performance was increased.\r\n",
            "\n"
          ]
        }
      ]
    },
    {
      "cell_type": "code",
      "source": [
        "nltk.download('punkt')\n",
        "nltk.download('stopwords')\n",
        "nltk.download('wordnet')\n",
        "nltk.download('omw-1.4')\n",
        "nltk.download('averaged_perceptron_tagger')"
      ],
      "metadata": {
        "colab": {
          "base_uri": "https://localhost:8080/"
        },
        "id": "F3bd3HRjBhr9",
        "outputId": "c808447e-44a5-483f-f2d1-6b27f87adff5"
      },
      "execution_count": null,
      "outputs": [
        {
          "output_type": "stream",
          "name": "stderr",
          "text": [
            "[nltk_data] Downloading package punkt to /root/nltk_data...\n",
            "[nltk_data]   Package punkt is already up-to-date!\n",
            "[nltk_data] Downloading package stopwords to /root/nltk_data...\n",
            "[nltk_data]   Package stopwords is already up-to-date!\n",
            "[nltk_data] Downloading package wordnet to /root/nltk_data...\n",
            "[nltk_data]   Package wordnet is already up-to-date!\n",
            "[nltk_data] Downloading package omw-1.4 to /root/nltk_data...\n",
            "[nltk_data]   Package omw-1.4 is already up-to-date!\n",
            "[nltk_data] Downloading package averaged_perceptron_tagger to\n",
            "[nltk_data]     /root/nltk_data...\n",
            "[nltk_data]   Package averaged_perceptron_tagger is already up-to-\n",
            "[nltk_data]       date!\n"
          ]
        },
        {
          "output_type": "execute_result",
          "data": {
            "text/plain": [
              "True"
            ]
          },
          "metadata": {},
          "execution_count": 109
        }
      ]
    },
    {
      "cell_type": "markdown",
      "source": [
        "Word Segmentation"
      ],
      "metadata": {
        "id": "d9rclHKO_Ak6"
      }
    },
    {
      "cell_type": "code",
      "source": [
        "from nltk.tokenize import word_tokenize\n",
        "\n",
        "words = word_tokenize(txt)\n",
        "print(words)"
      ],
      "metadata": {
        "colab": {
          "base_uri": "https://localhost:8080/"
        },
        "id": "T-rPuuX-AlZe",
        "outputId": "3afbf3c9-dce5-49cb-e0a5-96c378013c9e"
      },
      "execution_count": null,
      "outputs": [
        {
          "output_type": "stream",
          "name": "stdout",
          "text": [
            "['According', 'to', 'experts', ',', 'the', 'wine', 'is', 'differentiated', 'according', 'to', 'its', 'smell', ',', 'flavor', ',', 'and', 'color', ',', 'but', 'we', 'are', 'not', 'a', 'wine', 'expert', 'to', 'say', 'that', 'wine', 'is', 'good', 'or', 'bad', '.', 'The', 'red', 'wine', 'industry', 'shows', 'a', 'recent', 'exponential', 'growth', 'as', 'social', 'drinking', 'is', 'on', 'the', 'rise', '.', 'Nowadays', ',', 'industry', 'players', 'are', 'using', 'product', 'quality', 'certifications', 'to', 'promote', 'their', 'products', '.', 'This', 'is', 'a', 'time-consuming', 'process', 'and', 'requires', 'the', 'assessment', 'given', 'by', 'human', 'experts', ',', 'which', 'makes', 'this', 'process', 'very', 'expensive', '.', 'Previously', ',', 'testing', 'of', 'product', 'quality', 'was', 'done', 'at', 'the', 'end', 'of', 'the', 'production', ',', 'which', 'is', 'time', 'taking', 'process', 'and', 'it', 'requires', 'a', 'lot', 'of', 'resources', 'such', 'as', 'the', 'need', 'for', 'various', 'human', 'experts', 'for', 'the', 'assessment', 'of', 'product', 'quality', 'which', 'makes', 'this', 'process', 'very', 'expensive', '.', 'Also', ',', 'the', 'price', 'of', 'red', 'wine', 'depends', 'on', 'a', 'rather', 'abstract', 'concept', 'of', 'wine', 'appreciation', 'by', 'wine', 'tasters', ',', 'opinion', 'among', 'whom', 'may', 'have', 'a', 'high', 'degree', 'of', 'variability', '.', 'Another', 'vital', 'factor', 'in', 'red', 'wine', 'certification', 'and', 'quality', 'assessment', 'is', 'physicochemical', 'tests', ',', 'which', 'are', 'laboratory-based', 'and', 'consider', 'factors', 'like', 'acidity', ',', 'pH', 'level', ',', 'sugar', ',', 'and', 'other', 'chemical', 'properties', '.', 'The', 'red', 'wine', 'market', 'would', 'be', 'of', 'interest', 'if', 'the', 'human', 'quality', 'of', 'tasting', 'can', 'be', 'related', 'to', 'wine', '’', 's', 'chemical', 'properties', 'so', 'that', 'certification', 'and', 'quality', 'assessment', 'and', 'assurance', 'processes', 'are', 'more', 'controlled', '.', 'The', 'excellence', 'of', 'New', 'Zealand', 'Pinot', 'noir', 'wines', 'is', 'well-known', 'worldwide', '.', 'We', 'utilised', '18', 'Pinot', 'noir', 'wine', 'samples', 'with', '54', 'different', 'characteristics', '(', '7', 'physiochemical', 'and', '47', 'chemical', 'features', ')', '.', 'We', 'generated', '1381', 'samples', 'from', '12', 'original', 'samples', 'using', 'the', 'SMOTE', 'method', ',', 'and', 'six', 'samples', 'were', 'preserved', 'for', 'model', 'testing', '.', 'The', 'findings', 'were', 'compared', 'using', 'four', 'distinct', 'feature', 'selection', 'approaches', '.', 'Important', 'attributes', '(', 'referred', 'as', 'essential', 'variables', ')', 'that', 'were', 'shown', 'to', 'be', 'relevant', 'in', 'at', 'least', 'three', 'feature', 'selection', 'methods', 'were', 'utilised', 'to', 'predict', 'wine', 'quality', '.', 'Seven', 'machine', 'learning', 'algorithms', 'were', 'trained', 'and', 'tested', 'on', 'a', 'holdout', 'original', 'sample', '.', 'Adaptive', 'Boosting', '(', 'AdaBoost', ')', 'classifier', 'showed', '100', '%', 'accuracy', 'when', 'trained', 'and', 'evaluated', 'without', 'feature', 'selection', ',', 'with', 'feature', 'selection', '(', 'XGB', ')', ',', 'and', 'with', 'essential', 'variables', '(', 'features', 'found', 'important', 'in', 'at', 'least', 'three', 'feature', 'selection', 'methods', ')', '.', 'In', 'the', 'presence', 'of', 'essential', 'variables', ',', 'the', 'Random', 'Forest', '(', 'RF', ')', 'classifier', 'performance', 'was', 'increased', '.']\n"
          ]
        }
      ]
    },
    {
      "cell_type": "markdown",
      "source": [
        "Sentence Segmentation"
      ],
      "metadata": {
        "id": "WykKSSoK_A7E"
      }
    },
    {
      "cell_type": "code",
      "source": [
        "from nltk.tokenize import sent_tokenize\n",
        "\n",
        "sentences = sent_tokenize(txt)\n",
        "print(sentences)"
      ],
      "metadata": {
        "colab": {
          "base_uri": "https://localhost:8080/"
        },
        "id": "RhLEQWReCJFN",
        "outputId": "f40e6a13-32fd-4da5-a273-a62a8a12e073"
      },
      "execution_count": null,
      "outputs": [
        {
          "output_type": "stream",
          "name": "stdout",
          "text": [
            "['According to experts, the wine is differentiated according to its smell, flavor, and color, but we are not a wine expert to say that wine is good or bad.', 'The red wine industry shows a recent exponential growth as social drinking is on the rise.', 'Nowadays, industry players are using product quality certifications to promote their products.', 'This is a time-consuming process and requires the assessment given by human experts, which makes this process very expensive.', 'Previously, testing of product quality was done at the end of the production, which is time taking process and it requires a lot of resources such as the need for various human experts for the assessment of product quality which makes this process very expensive.', 'Also, the price of red wine depends on a rather abstract concept of wine appreciation by wine tasters, opinion among whom may have a high degree of variability.', 'Another vital factor in red wine certification and quality assessment is physicochemical tests, which are laboratory-based and consider factors like acidity, pH level, sugar, and other chemical properties.', 'The red wine market would be of interest if the human quality of tasting can be related to wine’s chemical properties so that certification and quality assessment and assurance processes are more controlled.', 'The excellence of New Zealand Pinot noir wines is well-known worldwide.', 'We utilised 18 Pinot noir wine samples with 54 different characteristics (7 physiochemical and 47 chemical features).', 'We generated 1381 samples from 12 original samples using the SMOTE method, and six samples were preserved for model testing.', 'The findings were compared using four distinct feature selection approaches.', 'Important attributes (referred as essential variables) that were shown to be relevant in at least three feature selection methods were utilised to predict wine quality.', 'Seven machine learning algorithms were trained and tested on a holdout original sample.', 'Adaptive Boosting (AdaBoost) classifier showed 100% accuracy when trained and evaluated without feature selection, with feature selection (XGB), and with essential variables (features found important in at least three feature selection methods).', 'In the presence of essential variables, the Random Forest (RF) classifier performance was increased.']\n"
          ]
        }
      ]
    },
    {
      "cell_type": "markdown",
      "source": [
        "Convert to Lowercase"
      ],
      "metadata": {
        "id": "puy8cLx4_BCs"
      }
    },
    {
      "cell_type": "code",
      "source": [
        "lowercase_words = [word.lower() for word in words]\n",
        "print(lowercase_words)"
      ],
      "metadata": {
        "colab": {
          "base_uri": "https://localhost:8080/"
        },
        "id": "fqrx9g7sCvAu",
        "outputId": "94233274-76eb-4555-81f1-801d13abc24a"
      },
      "execution_count": null,
      "outputs": [
        {
          "output_type": "stream",
          "name": "stdout",
          "text": [
            "['according', 'to', 'experts', ',', 'the', 'wine', 'is', 'differentiated', 'according', 'to', 'its', 'smell', ',', 'flavor', ',', 'and', 'color', ',', 'but', 'we', 'are', 'not', 'a', 'wine', 'expert', 'to', 'say', 'that', 'wine', 'is', 'good', 'or', 'bad', '.', 'the', 'red', 'wine', 'industry', 'shows', 'a', 'recent', 'exponential', 'growth', 'as', 'social', 'drinking', 'is', 'on', 'the', 'rise', '.', 'nowadays', ',', 'industry', 'players', 'are', 'using', 'product', 'quality', 'certifications', 'to', 'promote', 'their', 'products', '.', 'this', 'is', 'a', 'time-consuming', 'process', 'and', 'requires', 'the', 'assessment', 'given', 'by', 'human', 'experts', ',', 'which', 'makes', 'this', 'process', 'very', 'expensive', '.', 'previously', ',', 'testing', 'of', 'product', 'quality', 'was', 'done', 'at', 'the', 'end', 'of', 'the', 'production', ',', 'which', 'is', 'time', 'taking', 'process', 'and', 'it', 'requires', 'a', 'lot', 'of', 'resources', 'such', 'as', 'the', 'need', 'for', 'various', 'human', 'experts', 'for', 'the', 'assessment', 'of', 'product', 'quality', 'which', 'makes', 'this', 'process', 'very', 'expensive', '.', 'also', ',', 'the', 'price', 'of', 'red', 'wine', 'depends', 'on', 'a', 'rather', 'abstract', 'concept', 'of', 'wine', 'appreciation', 'by', 'wine', 'tasters', ',', 'opinion', 'among', 'whom', 'may', 'have', 'a', 'high', 'degree', 'of', 'variability', '.', 'another', 'vital', 'factor', 'in', 'red', 'wine', 'certification', 'and', 'quality', 'assessment', 'is', 'physicochemical', 'tests', ',', 'which', 'are', 'laboratory-based', 'and', 'consider', 'factors', 'like', 'acidity', ',', 'ph', 'level', ',', 'sugar', ',', 'and', 'other', 'chemical', 'properties', '.', 'the', 'red', 'wine', 'market', 'would', 'be', 'of', 'interest', 'if', 'the', 'human', 'quality', 'of', 'tasting', 'can', 'be', 'related', 'to', 'wine', '’', 's', 'chemical', 'properties', 'so', 'that', 'certification', 'and', 'quality', 'assessment', 'and', 'assurance', 'processes', 'are', 'more', 'controlled', '.', 'the', 'excellence', 'of', 'new', 'zealand', 'pinot', 'noir', 'wines', 'is', 'well-known', 'worldwide', '.', 'we', 'utilised', '18', 'pinot', 'noir', 'wine', 'samples', 'with', '54', 'different', 'characteristics', '(', '7', 'physiochemical', 'and', '47', 'chemical', 'features', ')', '.', 'we', 'generated', '1381', 'samples', 'from', '12', 'original', 'samples', 'using', 'the', 'smote', 'method', ',', 'and', 'six', 'samples', 'were', 'preserved', 'for', 'model', 'testing', '.', 'the', 'findings', 'were', 'compared', 'using', 'four', 'distinct', 'feature', 'selection', 'approaches', '.', 'important', 'attributes', '(', 'referred', 'as', 'essential', 'variables', ')', 'that', 'were', 'shown', 'to', 'be', 'relevant', 'in', 'at', 'least', 'three', 'feature', 'selection', 'methods', 'were', 'utilised', 'to', 'predict', 'wine', 'quality', '.', 'seven', 'machine', 'learning', 'algorithms', 'were', 'trained', 'and', 'tested', 'on', 'a', 'holdout', 'original', 'sample', '.', 'adaptive', 'boosting', '(', 'adaboost', ')', 'classifier', 'showed', '100', '%', 'accuracy', 'when', 'trained', 'and', 'evaluated', 'without', 'feature', 'selection', ',', 'with', 'feature', 'selection', '(', 'xgb', ')', ',', 'and', 'with', 'essential', 'variables', '(', 'features', 'found', 'important', 'in', 'at', 'least', 'three', 'feature', 'selection', 'methods', ')', '.', 'in', 'the', 'presence', 'of', 'essential', 'variables', ',', 'the', 'random', 'forest', '(', 'rf', ')', 'classifier', 'performance', 'was', 'increased', '.']\n"
          ]
        }
      ]
    },
    {
      "cell_type": "code",
      "source": [
        "from nltk.corpus import stopwords\n",
        "\n",
        "stop_words = set(stopwords.words('english'))\n",
        "filtered_words = [word for word in lowercase_words if word not in stop_words]\n",
        "print(filtered_words)"
      ],
      "metadata": {
        "colab": {
          "base_uri": "https://localhost:8080/"
        },
        "id": "l4GcUYBXC01l",
        "outputId": "1830f764-1871-412a-9329-0a1c5497f1f6"
      },
      "execution_count": null,
      "outputs": [
        {
          "output_type": "stream",
          "name": "stdout",
          "text": [
            "['according', 'experts', ',', 'wine', 'differentiated', 'according', 'smell', ',', 'flavor', ',', 'color', ',', 'wine', 'expert', 'say', 'wine', 'good', 'bad', '.', 'red', 'wine', 'industry', 'shows', 'recent', 'exponential', 'growth', 'social', 'drinking', 'rise', '.', 'nowadays', ',', 'industry', 'players', 'using', 'product', 'quality', 'certifications', 'promote', 'products', '.', 'time-consuming', 'process', 'requires', 'assessment', 'given', 'human', 'experts', ',', 'makes', 'process', 'expensive', '.', 'previously', ',', 'testing', 'product', 'quality', 'done', 'end', 'production', ',', 'time', 'taking', 'process', 'requires', 'lot', 'resources', 'need', 'various', 'human', 'experts', 'assessment', 'product', 'quality', 'makes', 'process', 'expensive', '.', 'also', ',', 'price', 'red', 'wine', 'depends', 'rather', 'abstract', 'concept', 'wine', 'appreciation', 'wine', 'tasters', ',', 'opinion', 'among', 'may', 'high', 'degree', 'variability', '.', 'another', 'vital', 'factor', 'red', 'wine', 'certification', 'quality', 'assessment', 'physicochemical', 'tests', ',', 'laboratory-based', 'consider', 'factors', 'like', 'acidity', ',', 'ph', 'level', ',', 'sugar', ',', 'chemical', 'properties', '.', 'red', 'wine', 'market', 'would', 'interest', 'human', 'quality', 'tasting', 'related', 'wine', '’', 'chemical', 'properties', 'certification', 'quality', 'assessment', 'assurance', 'processes', 'controlled', '.', 'excellence', 'new', 'zealand', 'pinot', 'noir', 'wines', 'well-known', 'worldwide', '.', 'utilised', '18', 'pinot', 'noir', 'wine', 'samples', '54', 'different', 'characteristics', '(', '7', 'physiochemical', '47', 'chemical', 'features', ')', '.', 'generated', '1381', 'samples', '12', 'original', 'samples', 'using', 'smote', 'method', ',', 'six', 'samples', 'preserved', 'model', 'testing', '.', 'findings', 'compared', 'using', 'four', 'distinct', 'feature', 'selection', 'approaches', '.', 'important', 'attributes', '(', 'referred', 'essential', 'variables', ')', 'shown', 'relevant', 'least', 'three', 'feature', 'selection', 'methods', 'utilised', 'predict', 'wine', 'quality', '.', 'seven', 'machine', 'learning', 'algorithms', 'trained', 'tested', 'holdout', 'original', 'sample', '.', 'adaptive', 'boosting', '(', 'adaboost', ')', 'classifier', 'showed', '100', '%', 'accuracy', 'trained', 'evaluated', 'without', 'feature', 'selection', ',', 'feature', 'selection', '(', 'xgb', ')', ',', 'essential', 'variables', '(', 'features', 'found', 'important', 'least', 'three', 'feature', 'selection', 'methods', ')', '.', 'presence', 'essential', 'variables', ',', 'random', 'forest', '(', 'rf', ')', 'classifier', 'performance', 'increased', '.']\n"
          ]
        }
      ]
    },
    {
      "cell_type": "markdown",
      "source": [
        "Stemming\n"
      ],
      "metadata": {
        "id": "GBAOqJhH_BRs"
      }
    },
    {
      "cell_type": "code",
      "source": [
        "from nltk.stem import PorterStemmer\n",
        "\n",
        "stemmer = PorterStemmer()\n",
        "stemmed_words = [stemmer.stem(word) for word in filtered_words]\n",
        "print(stemmed_words)"
      ],
      "metadata": {
        "colab": {
          "base_uri": "https://localhost:8080/"
        },
        "id": "z3stpmDmC2Kt",
        "outputId": "15a909a2-7de3-4fcb-a79f-502db406f659"
      },
      "execution_count": null,
      "outputs": [
        {
          "output_type": "stream",
          "name": "stdout",
          "text": [
            "['accord', 'expert', ',', 'wine', 'differenti', 'accord', 'smell', ',', 'flavor', ',', 'color', ',', 'wine', 'expert', 'say', 'wine', 'good', 'bad', '.', 'red', 'wine', 'industri', 'show', 'recent', 'exponenti', 'growth', 'social', 'drink', 'rise', '.', 'nowaday', ',', 'industri', 'player', 'use', 'product', 'qualiti', 'certif', 'promot', 'product', '.', 'time-consum', 'process', 'requir', 'assess', 'given', 'human', 'expert', ',', 'make', 'process', 'expens', '.', 'previous', ',', 'test', 'product', 'qualiti', 'done', 'end', 'product', ',', 'time', 'take', 'process', 'requir', 'lot', 'resourc', 'need', 'variou', 'human', 'expert', 'assess', 'product', 'qualiti', 'make', 'process', 'expens', '.', 'also', ',', 'price', 'red', 'wine', 'depend', 'rather', 'abstract', 'concept', 'wine', 'appreci', 'wine', 'taster', ',', 'opinion', 'among', 'may', 'high', 'degre', 'variabl', '.', 'anoth', 'vital', 'factor', 'red', 'wine', 'certif', 'qualiti', 'assess', 'physicochem', 'test', ',', 'laboratory-bas', 'consid', 'factor', 'like', 'acid', ',', 'ph', 'level', ',', 'sugar', ',', 'chemic', 'properti', '.', 'red', 'wine', 'market', 'would', 'interest', 'human', 'qualiti', 'tast', 'relat', 'wine', '’', 'chemic', 'properti', 'certif', 'qualiti', 'assess', 'assur', 'process', 'control', '.', 'excel', 'new', 'zealand', 'pinot', 'noir', 'wine', 'well-known', 'worldwid', '.', 'utilis', '18', 'pinot', 'noir', 'wine', 'sampl', '54', 'differ', 'characterist', '(', '7', 'physiochem', '47', 'chemic', 'featur', ')', '.', 'gener', '1381', 'sampl', '12', 'origin', 'sampl', 'use', 'smote', 'method', ',', 'six', 'sampl', 'preserv', 'model', 'test', '.', 'find', 'compar', 'use', 'four', 'distinct', 'featur', 'select', 'approach', '.', 'import', 'attribut', '(', 'refer', 'essenti', 'variabl', ')', 'shown', 'relev', 'least', 'three', 'featur', 'select', 'method', 'utilis', 'predict', 'wine', 'qualiti', '.', 'seven', 'machin', 'learn', 'algorithm', 'train', 'test', 'holdout', 'origin', 'sampl', '.', 'adapt', 'boost', '(', 'adaboost', ')', 'classifi', 'show', '100', '%', 'accuraci', 'train', 'evalu', 'without', 'featur', 'select', ',', 'featur', 'select', '(', 'xgb', ')', ',', 'essenti', 'variabl', '(', 'featur', 'found', 'import', 'least', 'three', 'featur', 'select', 'method', ')', '.', 'presenc', 'essenti', 'variabl', ',', 'random', 'forest', '(', 'rf', ')', 'classifi', 'perform', 'increas', '.']\n"
          ]
        }
      ]
    },
    {
      "cell_type": "markdown",
      "source": [
        "Lemmatization"
      ],
      "metadata": {
        "id": "StgJfSWE_A0E"
      }
    },
    {
      "cell_type": "code",
      "source": [
        "from nltk.stem import WordNetLemmatizer\n",
        "\n",
        "lemmatizer = WordNetLemmatizer()\n",
        "lemmatized_words = [lemmatizer.lemmatize(word) for word in filtered_words]\n",
        "print(lemmatized_words)"
      ],
      "metadata": {
        "colab": {
          "base_uri": "https://localhost:8080/"
        },
        "id": "oBg5BLGCC3et",
        "outputId": "3d753d18-bb92-4355-d80e-71d416cab451"
      },
      "execution_count": null,
      "outputs": [
        {
          "output_type": "stream",
          "name": "stdout",
          "text": [
            "['according', 'expert', ',', 'wine', 'differentiated', 'according', 'smell', ',', 'flavor', ',', 'color', ',', 'wine', 'expert', 'say', 'wine', 'good', 'bad', '.', 'red', 'wine', 'industry', 'show', 'recent', 'exponential', 'growth', 'social', 'drinking', 'rise', '.', 'nowadays', ',', 'industry', 'player', 'using', 'product', 'quality', 'certification', 'promote', 'product', '.', 'time-consuming', 'process', 'requires', 'assessment', 'given', 'human', 'expert', ',', 'make', 'process', 'expensive', '.', 'previously', ',', 'testing', 'product', 'quality', 'done', 'end', 'production', ',', 'time', 'taking', 'process', 'requires', 'lot', 'resource', 'need', 'various', 'human', 'expert', 'assessment', 'product', 'quality', 'make', 'process', 'expensive', '.', 'also', ',', 'price', 'red', 'wine', 'depends', 'rather', 'abstract', 'concept', 'wine', 'appreciation', 'wine', 'taster', ',', 'opinion', 'among', 'may', 'high', 'degree', 'variability', '.', 'another', 'vital', 'factor', 'red', 'wine', 'certification', 'quality', 'assessment', 'physicochemical', 'test', ',', 'laboratory-based', 'consider', 'factor', 'like', 'acidity', ',', 'ph', 'level', ',', 'sugar', ',', 'chemical', 'property', '.', 'red', 'wine', 'market', 'would', 'interest', 'human', 'quality', 'tasting', 'related', 'wine', '’', 'chemical', 'property', 'certification', 'quality', 'assessment', 'assurance', 'process', 'controlled', '.', 'excellence', 'new', 'zealand', 'pinot', 'noir', 'wine', 'well-known', 'worldwide', '.', 'utilised', '18', 'pinot', 'noir', 'wine', 'sample', '54', 'different', 'characteristic', '(', '7', 'physiochemical', '47', 'chemical', 'feature', ')', '.', 'generated', '1381', 'sample', '12', 'original', 'sample', 'using', 'smote', 'method', ',', 'six', 'sample', 'preserved', 'model', 'testing', '.', 'finding', 'compared', 'using', 'four', 'distinct', 'feature', 'selection', 'approach', '.', 'important', 'attribute', '(', 'referred', 'essential', 'variable', ')', 'shown', 'relevant', 'least', 'three', 'feature', 'selection', 'method', 'utilised', 'predict', 'wine', 'quality', '.', 'seven', 'machine', 'learning', 'algorithm', 'trained', 'tested', 'holdout', 'original', 'sample', '.', 'adaptive', 'boosting', '(', 'adaboost', ')', 'classifier', 'showed', '100', '%', 'accuracy', 'trained', 'evaluated', 'without', 'feature', 'selection', ',', 'feature', 'selection', '(', 'xgb', ')', ',', 'essential', 'variable', '(', 'feature', 'found', 'important', 'least', 'three', 'feature', 'selection', 'method', ')', '.', 'presence', 'essential', 'variable', ',', 'random', 'forest', '(', 'rf', ')', 'classifier', 'performance', 'increased', '.']\n"
          ]
        }
      ]
    },
    {
      "cell_type": "markdown",
      "source": [
        "Part of speech tagger"
      ],
      "metadata": {
        "id": "hJigVdcy_BKU"
      }
    },
    {
      "cell_type": "code",
      "source": [
        "from nltk.tag import pos_tag\n",
        "\n",
        "tagged_words = pos_tag(lemmatized_words)\n",
        "print(tagged_words)"
      ],
      "metadata": {
        "colab": {
          "base_uri": "https://localhost:8080/"
        },
        "id": "H9hbXKefC4wN",
        "outputId": "2a5158d0-ef95-47a4-db0f-bd97ffae3408"
      },
      "execution_count": null,
      "outputs": [
        {
          "output_type": "stream",
          "name": "stdout",
          "text": [
            "[('according', 'VBG'), ('expert', 'NN'), (',', ','), ('wine', 'NN'), ('differentiated', 'VBD'), ('according', 'VBG'), ('smell', 'NN'), (',', ','), ('flavor', 'NN'), (',', ','), ('color', 'NN'), (',', ','), ('wine', 'NN'), ('expert', 'NNS'), ('say', 'VBP'), ('wine', 'JJ'), ('good', 'JJ'), ('bad', 'JJ'), ('.', '.'), ('red', 'JJ'), ('wine', 'NN'), ('industry', 'NN'), ('show', 'NN'), ('recent', 'JJ'), ('exponential', 'JJ'), ('growth', 'NN'), ('social', 'JJ'), ('drinking', 'NN'), ('rise', 'NN'), ('.', '.'), ('nowadays', 'NNS'), (',', ','), ('industry', 'NN'), ('player', 'NN'), ('using', 'VBG'), ('product', 'NN'), ('quality', 'NN'), ('certification', 'NN'), ('promote', 'NN'), ('product', 'NN'), ('.', '.'), ('time-consuming', 'JJ'), ('process', 'NN'), ('requires', 'VBZ'), ('assessment', 'JJ'), ('given', 'VBN'), ('human', 'JJ'), ('expert', 'NN'), (',', ','), ('make', 'VBP'), ('process', 'NN'), ('expensive', 'JJ'), ('.', '.'), ('previously', 'RB'), (',', ','), ('testing', 'VBG'), ('product', 'NN'), ('quality', 'NN'), ('done', 'VBN'), ('end', 'NN'), ('production', 'NN'), (',', ','), ('time', 'NN'), ('taking', 'VBG'), ('process', 'NN'), ('requires', 'VBZ'), ('lot', 'JJR'), ('resource', 'JJ'), ('need', 'VBP'), ('various', 'JJ'), ('human', 'JJ'), ('expert', 'NN'), ('assessment', 'JJ'), ('product', 'NN'), ('quality', 'NN'), ('make', 'VBP'), ('process', 'NN'), ('expensive', 'NN'), ('.', '.'), ('also', 'RB'), (',', ','), ('price', 'NN'), ('red', 'JJ'), ('wine', 'NN'), ('depends', 'VBZ'), ('rather', 'RB'), ('abstract', 'JJ'), ('concept', 'VB'), ('wine', 'JJ'), ('appreciation', 'NN'), ('wine', 'NN'), ('taster', 'NN'), (',', ','), ('opinion', 'NN'), ('among', 'IN'), ('may', 'MD'), ('high', 'VB'), ('degree', 'JJ'), ('variability', 'NN'), ('.', '.'), ('another', 'DT'), ('vital', 'JJ'), ('factor', 'NN'), ('red', 'JJ'), ('wine', 'NN'), ('certification', 'NN'), ('quality', 'NN'), ('assessment', 'JJ'), ('physicochemical', 'JJ'), ('test', 'NN'), (',', ','), ('laboratory-based', 'JJ'), ('consider', 'NN'), ('factor', 'NN'), ('like', 'IN'), ('acidity', 'NN'), (',', ','), ('ph', 'JJ'), ('level', 'NN'), (',', ','), ('sugar', 'NN'), (',', ','), ('chemical', 'JJ'), ('property', 'NN'), ('.', '.'), ('red', 'JJ'), ('wine', 'NN'), ('market', 'NN'), ('would', 'MD'), ('interest', 'NN'), ('human', 'JJ'), ('quality', 'NN'), ('tasting', 'VBG'), ('related', 'JJ'), ('wine', 'NN'), ('’', 'NNP'), ('chemical', 'NN'), ('property', 'NN'), ('certification', 'NN'), ('quality', 'NN'), ('assessment', 'JJ'), ('assurance', 'NN'), ('process', 'NN'), ('controlled', 'VBN'), ('.', '.'), ('excellence', 'VB'), ('new', 'JJ'), ('zealand', 'NNP'), ('pinot', 'NN'), ('noir', 'JJ'), ('wine', 'JJ'), ('well-known', 'JJ'), ('worldwide', 'NN'), ('.', '.'), ('utilised', 'JJ'), ('18', 'CD'), ('pinot', 'NN'), ('noir', 'JJ'), ('wine', 'NN'), ('sample', 'NN'), ('54', 'CD'), ('different', 'JJ'), ('characteristic', 'NN'), ('(', '('), ('7', 'CD'), ('physiochemical', 'JJ'), ('47', 'CD'), ('chemical', 'JJ'), ('feature', 'NN'), (')', ')'), ('.', '.'), ('generated', 'JJ'), ('1381', 'CD'), ('sample', 'JJ'), ('12', 'CD'), ('original', 'JJ'), ('sample', 'NN'), ('using', 'VBG'), ('smote', 'JJ'), ('method', 'NN'), (',', ','), ('six', 'CD'), ('sample', 'NN'), ('preserved', 'VBD'), ('model', 'NN'), ('testing', 'VBG'), ('.', '.'), ('finding', 'VBG'), ('compared', 'VBN'), ('using', 'VBG'), ('four', 'CD'), ('distinct', 'JJ'), ('feature', 'NN'), ('selection', 'NN'), ('approach', 'NN'), ('.', '.'), ('important', 'JJ'), ('attribute', 'NN'), ('(', '('), ('referred', 'VBN'), ('essential', 'RB'), ('variable', 'JJ'), (')', ')'), ('shown', 'VBN'), ('relevant', 'JJ'), ('least', 'JJS'), ('three', 'CD'), ('feature', 'NN'), ('selection', 'NN'), ('method', 'NN'), ('utilised', 'JJ'), ('predict', 'NN'), ('wine', 'NN'), ('quality', 'NN'), ('.', '.'), ('seven', 'CD'), ('machine', 'NN'), ('learning', 'VBG'), ('algorithm', 'NNS'), ('trained', 'VBN'), ('tested', 'VBD'), ('holdout', 'RBR'), ('original', 'JJ'), ('sample', 'NN'), ('.', '.'), ('adaptive', 'JJ'), ('boosting', 'NN'), ('(', '('), ('adaboost', 'NN'), (')', ')'), ('classifier', 'NN'), ('showed', 'VBD'), ('100', 'CD'), ('%', 'NN'), ('accuracy', 'NN'), ('trained', 'VBN'), ('evaluated', 'VBN'), ('without', 'IN'), ('feature', 'NN'), ('selection', 'NN'), (',', ','), ('feature', 'NN'), ('selection', 'NN'), ('(', '('), ('xgb', 'NNP'), (')', ')'), (',', ','), ('essential', 'JJ'), ('variable', 'NN'), ('(', '('), ('feature', 'NN'), ('found', 'VBN'), ('important', 'JJ'), ('least', 'JJS'), ('three', 'CD'), ('feature', 'NN'), ('selection', 'NN'), ('method', 'NN'), (')', ')'), ('.', '.'), ('presence', 'NN'), ('essential', 'JJ'), ('variable', 'NN'), (',', ','), ('random', 'JJ'), ('forest', 'JJS'), ('(', '('), ('rf', 'NN'), (')', ')'), ('classifier', 'JJR'), ('performance', 'NN'), ('increased', 'VBD'), ('.', '.')]\n"
          ]
        }
      ]
    }
  ]
}